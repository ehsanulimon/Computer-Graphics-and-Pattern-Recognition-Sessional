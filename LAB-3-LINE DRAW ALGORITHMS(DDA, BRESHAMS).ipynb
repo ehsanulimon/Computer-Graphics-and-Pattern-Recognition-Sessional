{
 "cells": [
  {
   "cell_type": "code",
   "execution_count": 1,
   "id": "536114ff",
   "metadata": {},
   "outputs": [
    {
     "name": "stdout",
     "output_type": "stream",
     "text": [
      "DDA Line Points: [(1, 1), (2, 1), (3, 2), (4, 2), (5, 3), (6, 3), (7, 4), (8, 4)]\n"
     ]
    }
   ],
   "source": [
    "#   DDA Algorithm\n",
    "def draw_line_dda(x1, y1, x2, y2):\n",
    "    points = []\n",
    "    dx = x2 - x1\n",
    "    dy = y2 - y1\n",
    "    steps = max(abs(dx), abs(dy))\n",
    "    x_increment = dx / steps\n",
    "    y_increment = dy / steps\n",
    "\n",
    "    x, y = x1, y1\n",
    "    points.append((round(x), round(y)))\n",
    "\n",
    "    for _ in range(steps):\n",
    "        x += x_increment\n",
    "        y += y_increment\n",
    "        points.append((round(x), round(y)))\n",
    "\n",
    "    return points\n",
    "\n",
    "# Example usage:\n",
    "x1, y1 = 1, 1\n",
    "x2, y2 = 8, 4\n",
    "line_points_dda = draw_line_dda(x1, y1, x2, y2)\n",
    "\n",
    "# Print the line points\n",
    "print(\"DDA Line Points:\", line_points_dda)\n"
   ]
  },
  {
   "cell_type": "code",
   "execution_count": 4,
   "id": "4d4a5008",
   "metadata": {},
   "outputs": [
    {
     "name": "stdout",
     "output_type": "stream",
     "text": [
      "Bresenham's Line Points: [(1, 1), (2, 1), (3, 2), (4, 2), (5, 3), (6, 3), (7, 4), (8, 4)]\n"
     ]
    }
   ],
   "source": [
    "# Bresenham's Algorithm:\n",
    "def draw_line_bresenham(x1, y1, x2, y2):\n",
    "    points = []\n",
    "    dx = x2 - x1\n",
    "    dy = y2 - y1\n",
    "    x, y = x1, y1\n",
    "    points.append((x, y))\n",
    "\n",
    "    # Decision parameter\n",
    "    d = 2 * dy - dx\n",
    "\n",
    "    while x < x2:\n",
    "        if d >= 0:\n",
    "            y += 1\n",
    "            d -= 2 * dx\n",
    "        x += 1\n",
    "        d += 2 * dy\n",
    "        points.append((x, y))\n",
    "\n",
    "    return points\n",
    "\n",
    "# Example usage:\n",
    "x1, y1 = 1, 1\n",
    "x2, y2 = 8, 4\n",
    "line_points_bresenham = draw_line_bresenham(x1, y1, x2, y2)\n",
    "\n",
    "# Print the line points\n",
    "print(\"Bresenham's Line Points:\", line_points_bresenham)\n"
   ]
  },
  {
   "cell_type": "code",
   "execution_count": null,
   "id": "aace33cb",
   "metadata": {},
   "outputs": [],
   "source": []
  }
 ],
 "metadata": {
  "kernelspec": {
   "display_name": "Python 3 (ipykernel)",
   "language": "python",
   "name": "python3"
  },
  "language_info": {
   "codemirror_mode": {
    "name": "ipython",
    "version": 3
   },
   "file_extension": ".py",
   "mimetype": "text/x-python",
   "name": "python",
   "nbconvert_exporter": "python",
   "pygments_lexer": "ipython3",
   "version": "3.11.3"
  }
 },
 "nbformat": 4,
 "nbformat_minor": 5
}
