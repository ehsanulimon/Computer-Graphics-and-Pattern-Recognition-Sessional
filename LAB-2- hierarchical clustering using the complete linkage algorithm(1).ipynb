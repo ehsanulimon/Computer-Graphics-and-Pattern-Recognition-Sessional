{
 "cells": [
  {
   "cell_type": "code",
   "execution_count": 2,
   "id": "703031e7",
   "metadata": {},
   "outputs": [
    {
     "name": "stdout",
     "output_type": "stream",
     "text": [
      "Hierarchical Clustering Result: [(1, 2), (2, 3), (5, 8), (8, 7), (9, 10)]\n"
     ]
    }
   ],
   "source": [
    "def euclidean_distance(point1, point2):\n",
    "    # Euclidean distance between two points in a n-dimensional space\n",
    "    return sum((a - b) ** 2 for a, b in zip(point1, point2)) ** 0.5\n",
    "\n",
    "def complete_linkage(cluster1, cluster2):\n",
    "    # Compute the complete linkage distance between two clusters\n",
    "    return max(euclidean_distance(p1, p2) for p1 in cluster1 for p2 in cluster2)\n",
    "\n",
    "def hierarchical_clustering(data):\n",
    "    clusters = [[point] for point in data]\n",
    "\n",
    "    while len(clusters) > 1:\n",
    "        min_distance = float('inf')\n",
    "        merge_indices = (0, 0)\n",
    "\n",
    "        for i in range(len(clusters)):\n",
    "            for j in range(i + 1, len(clusters)):\n",
    "                distance = complete_linkage(clusters[i], clusters[j])\n",
    "                if distance < min_distance:\n",
    "                    min_distance = distance\n",
    "                    merge_indices = (i, j)\n",
    "\n",
    "        # Merge the two clusters with the minimum distance\n",
    "        merged_cluster = clusters[merge_indices[0]] + clusters[merge_indices[1]]\n",
    "        clusters.pop(merge_indices[1])\n",
    "        clusters[merge_indices[0]] = merged_cluster\n",
    "\n",
    "    return clusters[0]\n",
    "\n",
    "# Example usage:\n",
    "data_points = [(1, 2), (2, 3), (5, 8), (8, 7), (9, 10)]\n",
    "result = hierarchical_clustering(data_points)\n",
    "\n",
    "# Print the final cluster\n",
    "print(\"Hierarchical Clustering Result:\", result)\n"
   ]
  },
  {
   "cell_type": "code",
   "execution_count": null,
   "id": "380affd1",
   "metadata": {},
   "outputs": [],
   "source": []
  }
 ],
 "metadata": {
  "kernelspec": {
   "display_name": "Python 3 (ipykernel)",
   "language": "python",
   "name": "python3"
  },
  "language_info": {
   "codemirror_mode": {
    "name": "ipython",
    "version": 3
   },
   "file_extension": ".py",
   "mimetype": "text/x-python",
   "name": "python",
   "nbconvert_exporter": "python",
   "pygments_lexer": "ipython3",
   "version": "3.11.3"
  }
 },
 "nbformat": 4,
 "nbformat_minor": 5
}
