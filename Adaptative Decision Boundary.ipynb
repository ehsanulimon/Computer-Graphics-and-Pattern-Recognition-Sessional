{
 "cells": [
  {
   "cell_type": "code",
   "execution_count": 6,
   "id": "9b3a452e",
   "metadata": {},
   "outputs": [
    {
     "name": "stdout",
     "output_type": "stream",
     "text": [
      "Updated Weights:\n",
      "[ 0.    0.24  0.22 -0.1 ]\n"
     ]
    }
   ],
   "source": [
    "import numpy as np\n",
    "\n",
    "FEATURES = 3 \n",
    "\n",
    "def adaptative_decision_boundary(weights, samples, labels, learning_rate, constant):\n",
    "    for i in range(len(samples)):\n",
    "        dot_product = np.dot(weights, np.concatenate(([1], samples[i])))\n",
    "        prediction = 1 if dot_product >= 0 else -1\n",
    "\n",
    "        if prediction != labels[i]:\n",
    "            weights += learning_rate * (labels[i] - prediction) * np.concatenate(([1], samples[i]))\n",
    "\n",
    "# Example usage\n",
    "weights = np.zeros(FEATURES + 1)  # Adding 1 for the bias term\n",
    "samples = np.array([[1.2, 2.3, 0.8], [2.5, 3.1, 1.7], [3.7, 4.2, 1.2]])  \n",
    "labels = np.array([1, -1, 1]) \n",
    "learning_rate = 0.1\n",
    "constant = 1.0\n",
    "\n",
    "adaptative_decision_boundary(weights, samples, labels, learning_rate, constant)\n",
    "\n",
    "# Display the updated weights\n",
    "print(\"Updated Weights:\")\n",
    "print(weights)\n"
   ]
  },
  {
   "cell_type": "code",
   "execution_count": null,
   "id": "cecf1e19",
   "metadata": {},
   "outputs": [],
   "source": []
  }
 ],
 "metadata": {
  "kernelspec": {
   "display_name": "Python 3 (ipykernel)",
   "language": "python",
   "name": "python3"
  },
  "language_info": {
   "codemirror_mode": {
    "name": "ipython",
    "version": 3
   },
   "file_extension": ".py",
   "mimetype": "text/x-python",
   "name": "python",
   "nbconvert_exporter": "python",
   "pygments_lexer": "ipython3",
   "version": "3.11.3"
  }
 },
 "nbformat": 4,
 "nbformat_minor": 5
}
