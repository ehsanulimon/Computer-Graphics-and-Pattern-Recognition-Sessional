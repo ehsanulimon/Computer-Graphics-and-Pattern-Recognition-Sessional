{
 "cells": [
  {
   "cell_type": "code",
   "execution_count": 1,
   "id": "09b21069",
   "metadata": {},
   "outputs": [
    {
     "name": "stdout",
     "output_type": "stream",
     "text": [
      "Midpoint Circle Points: [(9, 5), (1, 5), (9, 5), (1, 5), (5, 9), (5, 9), (5, 1), (5, 1), (9, 6), (1, 6), (9, 4), (1, 4), (6, 9), (4, 9), (6, 1), (4, 1), (9, 7), (1, 7), (9, 3), (1, 3), (7, 9), (3, 9), (7, 1), (3, 1), (8, 8), (2, 8), (8, 2), (2, 2), (8, 8), (2, 8), (8, 2), (2, 2)]\n"
     ]
    }
   ],
   "source": [
    "# Midpoint Circle Drawing Algorithm:\n",
    "def draw_circle_midpoint(x_center, y_center, radius):\n",
    "    points = []\n",
    "    x = radius\n",
    "    y = 0\n",
    "    p = 1 - radius  # Initial decision parameter\n",
    "\n",
    "    while x >= y:\n",
    "        points.append((x + x_center, y + y_center))\n",
    "        points.append((-x + x_center, y + y_center))\n",
    "        points.append((x + x_center, -y + y_center))\n",
    "        points.append((-x + x_center, -y + y_center))\n",
    "        points.append((y + x_center, x + y_center))\n",
    "        points.append((-y + x_center, x + y_center))\n",
    "        points.append((y + x_center, -x + y_center))\n",
    "        points.append((-y + x_center, -x + y_center))\n",
    "\n",
    "        y += 1\n",
    "\n",
    "        if p <= 0:\n",
    "            p = p + 2 * y + 1\n",
    "        else:\n",
    "            x -= 1\n",
    "            p = p + 2 * (y - x) + 1\n",
    "\n",
    "    return points\n",
    "\n",
    "# Example usage:\n",
    "x_center, y_center = 5, 5\n",
    "radius = 4\n",
    "circle_points_midpoint = draw_circle_midpoint(x_center, y_center, radius)\n",
    "\n",
    "# Print the circle points\n",
    "print(\"Midpoint Circle Points:\", circle_points_midpoint)\n"
   ]
  },
  {
   "cell_type": "code",
   "execution_count": 2,
   "id": "0f4ea5c8",
   "metadata": {},
   "outputs": [
    {
     "name": "stdout",
     "output_type": "stream",
     "text": [
      "Bresenham's Circle Points: [(5, 9), (5, 9), (5, 1), (5, 1), (9, 5), (1, 5), (9, 5), (1, 5), (6, 9), (4, 9), (6, 1), (4, 1), (9, 6), (1, 6), (9, 4), (1, 4), (7, 8), (3, 8), (7, 2), (3, 2), (8, 7), (2, 7), (8, 3), (2, 3)]\n"
     ]
    }
   ],
   "source": [
    "# Bresenham's Circle Drawing Algorithm:\n",
    "def draw_circle_bresenham(x_center, y_center, radius):\n",
    "    points = []\n",
    "    x = 0\n",
    "    y = radius\n",
    "    d = 3 - 2 * radius  # Initial decision parameter\n",
    "\n",
    "    while x <= y:\n",
    "        points.append((x + x_center, y + y_center))\n",
    "        points.append((-x + x_center, y + y_center))\n",
    "        points.append((x + x_center, -y + y_center))\n",
    "        points.append((-x + x_center, -y + y_center))\n",
    "        points.append((y + x_center, x + y_center))\n",
    "        points.append((-y + x_center, x + y_center))\n",
    "        points.append((y + x_center, -x + y_center))\n",
    "        points.append((-y + x_center, -x + y_center))\n",
    "\n",
    "        x += 1\n",
    "\n",
    "        if d > 0:\n",
    "            y -= 1\n",
    "            d = d + 4 * (x - y) + 10\n",
    "        else:\n",
    "            d = d + 4 * x + 6\n",
    "\n",
    "    return points\n",
    "\n",
    "# Example usage:\n",
    "x_center, y_center = 5, 5\n",
    "radius = 4\n",
    "circle_points_bresenham = draw_circle_bresenham(x_center, y_center, radius)\n",
    "\n",
    "# Print the circle points\n",
    "print(\"Bresenham's Circle Points:\", circle_points_bresenham)\n"
   ]
  },
  {
   "cell_type": "code",
   "execution_count": null,
   "id": "f76082c0",
   "metadata": {},
   "outputs": [],
   "source": []
  }
 ],
 "metadata": {
  "kernelspec": {
   "display_name": "Python 3 (ipykernel)",
   "language": "python",
   "name": "python3"
  },
  "language_info": {
   "codemirror_mode": {
    "name": "ipython",
    "version": 3
   },
   "file_extension": ".py",
   "mimetype": "text/x-python",
   "name": "python",
   "nbconvert_exporter": "python",
   "pygments_lexer": "ipython3",
   "version": "3.11.3"
  }
 },
 "nbformat": 4,
 "nbformat_minor": 5
}
